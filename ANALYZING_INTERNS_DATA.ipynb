{
 "cells": [
  {
   "cell_type": "code",
   "execution_count": 1,
   "id": "c6f0bd45",
   "metadata": {},
   "outputs": [],
   "source": [
    "#importing required librabies\n",
    "import pandas as pd\n",
    "import numpy as np"
   ]
  },
  {
   "cell_type": "code",
   "execution_count": 2,
   "id": "5449bedc",
   "metadata": {},
   "outputs": [],
   "source": [
    "#reading the csv file\n",
    "df = pd.read_csv(r\"C:\\Users\\banav\\Desktop\\INTERNSHIP\\data\\raw_data_v11_3.csv\")"
   ]
  },
  {
   "cell_type": "code",
   "execution_count": 3,
   "id": "e3b2a2ce",
   "metadata": {},
   "outputs": [
    {
     "data": {
      "text/plain": [
       "(1000, 8)"
      ]
     },
     "execution_count": 3,
     "metadata": {},
     "output_type": "execute_result"
    }
   ],
   "source": [
    "#checking shape of df\n",
    "df.shape"
   ]
  },
  {
   "cell_type": "code",
   "execution_count": 4,
   "id": "63311ef0",
   "metadata": {},
   "outputs": [
    {
     "data": {
      "text/html": [
       "<div>\n",
       "<style scoped>\n",
       "    .dataframe tbody tr th:only-of-type {\n",
       "        vertical-align: middle;\n",
       "    }\n",
       "\n",
       "    .dataframe tbody tr th {\n",
       "        vertical-align: top;\n",
       "    }\n",
       "\n",
       "    .dataframe thead th {\n",
       "        text-align: right;\n",
       "    }\n",
       "</style>\n",
       "<table border=\"1\" class=\"dataframe\">\n",
       "  <thead>\n",
       "    <tr style=\"text-align: right;\">\n",
       "      <th></th>\n",
       "      <th>Date of Birth</th>\n",
       "      <th>What is your current profession?</th>\n",
       "      <th>What is the year of completion of your Highest Education Qualification?</th>\n",
       "      <th>Which of the following best describes you?</th>\n",
       "      <th>Please mention the name of the institute where you have completed or are currently pursuing your Data Science Certification Course.</th>\n",
       "      <th>In case your certification institute is \"Innomatics Research Labs\", please provide your Enrolled Batch Number.</th>\n",
       "      <th>Please indicate the time that suits you for your daily LIVE interaction with our Chief Data Scientist as part of your internship.</th>\n",
       "      <th>What do you think are most important skill right now for a skilled Data Scientist?</th>\n",
       "    </tr>\n",
       "  </thead>\n",
       "  <tbody>\n",
       "    <tr>\n",
       "      <th>0</th>\n",
       "      <td>9/16/2000</td>\n",
       "      <td>Fresher (I have completed my Education and loo...</td>\n",
       "      <td>7/30/2023</td>\n",
       "      <td>I am currently enrolled in a Data Science cert...</td>\n",
       "      <td>Innomatics Research Labs</td>\n",
       "      <td>251</td>\n",
       "      <td>6:00 to 7:00 PM IST</td>\n",
       "      <td>Extracting actionable insights from the raw da...</td>\n",
       "    </tr>\n",
       "    <tr>\n",
       "      <th>1</th>\n",
       "      <td>2/6/1998</td>\n",
       "      <td>Fresher (I have completed my Education and loo...</td>\n",
       "      <td>5/18/2022</td>\n",
       "      <td>I have never enrolled in any certification cou...</td>\n",
       "      <td>NaN</td>\n",
       "      <td>NaN</td>\n",
       "      <td>6:00 to 7:00 PM IST</td>\n",
       "      <td>Extracting actionable insights from the raw data</td>\n",
       "    </tr>\n",
       "    <tr>\n",
       "      <th>2</th>\n",
       "      <td>10/8/2003</td>\n",
       "      <td>Student (I am currently enrolled in some Educa...</td>\n",
       "      <td>4/1/2025</td>\n",
       "      <td>I am currently enrolled in a Data Science cert...</td>\n",
       "      <td>NaN</td>\n",
       "      <td>NaN</td>\n",
       "      <td>6:00 to 7:00 PM IST</td>\n",
       "      <td>Data Modelling</td>\n",
       "    </tr>\n",
       "    <tr>\n",
       "      <th>3</th>\n",
       "      <td>11/29/2001</td>\n",
       "      <td>Student (I am currently enrolled in some Educa...</td>\n",
       "      <td>5/15/2024</td>\n",
       "      <td>I have never enrolled in any certification cou...</td>\n",
       "      <td>NaN</td>\n",
       "      <td>NaN</td>\n",
       "      <td>5:00 to 6:00 PM IST</td>\n",
       "      <td>Extracting actionable insights from the raw da...</td>\n",
       "    </tr>\n",
       "    <tr>\n",
       "      <th>4</th>\n",
       "      <td>11/25/2004</td>\n",
       "      <td>Student (I am currently enrolled in some Educa...</td>\n",
       "      <td>1/10/2026</td>\n",
       "      <td>I have completed a Data Science certification ...</td>\n",
       "      <td>Velagapudi ramakrishna Siddhartha college</td>\n",
       "      <td>Na</td>\n",
       "      <td>6:00 to 7:00 PM IST</td>\n",
       "      <td>Extracting actionable insights from the raw da...</td>\n",
       "    </tr>\n",
       "  </tbody>\n",
       "</table>\n",
       "</div>"
      ],
      "text/plain": [
       "  Date of Birth                   What is your current profession?  \\\n",
       "0     9/16/2000  Fresher (I have completed my Education and loo...   \n",
       "1      2/6/1998  Fresher (I have completed my Education and loo...   \n",
       "2     10/8/2003  Student (I am currently enrolled in some Educa...   \n",
       "3    11/29/2001  Student (I am currently enrolled in some Educa...   \n",
       "4    11/25/2004  Student (I am currently enrolled in some Educa...   \n",
       "\n",
       "  What is the year of completion of your Highest Education Qualification?  \\\n",
       "0                                          7/30/2023                        \n",
       "1                                          5/18/2022                        \n",
       "2                                           4/1/2025                        \n",
       "3                                          5/15/2024                        \n",
       "4                                          1/10/2026                        \n",
       "\n",
       "          Which of the following best describes you?  \\\n",
       "0  I am currently enrolled in a Data Science cert...   \n",
       "1  I have never enrolled in any certification cou...   \n",
       "2  I am currently enrolled in a Data Science cert...   \n",
       "3  I have never enrolled in any certification cou...   \n",
       "4  I have completed a Data Science certification ...   \n",
       "\n",
       "  Please mention the name of the institute where you have completed or are currently pursuing your Data Science Certification Course.  \\\n",
       "0                           Innomatics Research Labs                                                                                    \n",
       "1                                                NaN                                                                                    \n",
       "2                                                NaN                                                                                    \n",
       "3                                                NaN                                                                                    \n",
       "4         Velagapudi ramakrishna Siddhartha college                                                                                     \n",
       "\n",
       "  In case your certification institute is \"Innomatics Research Labs\", please provide your Enrolled Batch Number.  \\\n",
       "0                                                251                                                               \n",
       "1                                                NaN                                                               \n",
       "2                                                NaN                                                               \n",
       "3                                                NaN                                                               \n",
       "4                                                 Na                                                               \n",
       "\n",
       "  Please indicate the time that suits you for your daily LIVE interaction with our Chief Data Scientist as part of your internship.  \\\n",
       "0                                6:00 to 7:00 PM IST                                                                                  \n",
       "1                                6:00 to 7:00 PM IST                                                                                  \n",
       "2                                6:00 to 7:00 PM IST                                                                                  \n",
       "3                                5:00 to 6:00 PM IST                                                                                  \n",
       "4                                6:00 to 7:00 PM IST                                                                                  \n",
       "\n",
       "  What do you think are most important skill right now for a skilled Data Scientist?  \n",
       "0  Extracting actionable insights from the raw da...                                  \n",
       "1   Extracting actionable insights from the raw data                                  \n",
       "2                                     Data Modelling                                  \n",
       "3  Extracting actionable insights from the raw da...                                  \n",
       "4  Extracting actionable insights from the raw da...                                  "
      ]
     },
     "execution_count": 4,
     "metadata": {},
     "output_type": "execute_result"
    }
   ],
   "source": [
    "#top 5 rows\n",
    "df.head()"
   ]
  },
  {
   "cell_type": "code",
   "execution_count": 5,
   "id": "5861592c",
   "metadata": {},
   "outputs": [],
   "source": [
    "#column names in list\n",
    "col_names = ['date_of_birth','current_profession','education_year','enrollment_courses','institute_name','batch_no','time','skill_set']\n",
    "\n",
    "#changing the column names in our df\n",
    "df.columns = col_names"
   ]
  },
  {
   "cell_type": "code",
   "execution_count": 6,
   "id": "99909671",
   "metadata": {},
   "outputs": [
    {
     "data": {
      "text/plain": [
       "Index(['date_of_birth', 'current_profession', 'education_year',\n",
       "       'enrollment_courses', 'institute_name', 'batch_no', 'time',\n",
       "       'skill_set'],\n",
       "      dtype='object')"
      ]
     },
     "execution_count": 6,
     "metadata": {},
     "output_type": "execute_result"
    }
   ],
   "source": [
    "#knowing the column in df\n",
    "df.columns "
   ]
  },
  {
   "cell_type": "code",
   "execution_count": 7,
   "id": "4c612ca2",
   "metadata": {},
   "outputs": [
    {
     "data": {
      "text/plain": [
       "2"
      ]
     },
     "execution_count": 7,
     "metadata": {},
     "output_type": "execute_result"
    }
   ],
   "source": [
    "#knowing sum of the duplicates\n",
    "df.duplicated().sum()"
   ]
  },
  {
   "cell_type": "code",
   "execution_count": 8,
   "id": "13692749",
   "metadata": {},
   "outputs": [
    {
     "data": {
      "text/html": [
       "<div>\n",
       "<style scoped>\n",
       "    .dataframe tbody tr th:only-of-type {\n",
       "        vertical-align: middle;\n",
       "    }\n",
       "\n",
       "    .dataframe tbody tr th {\n",
       "        vertical-align: top;\n",
       "    }\n",
       "\n",
       "    .dataframe thead th {\n",
       "        text-align: right;\n",
       "    }\n",
       "</style>\n",
       "<table border=\"1\" class=\"dataframe\">\n",
       "  <thead>\n",
       "    <tr style=\"text-align: right;\">\n",
       "      <th></th>\n",
       "      <th>date_of_birth</th>\n",
       "      <th>current_profession</th>\n",
       "      <th>education_year</th>\n",
       "      <th>enrollment_courses</th>\n",
       "      <th>institute_name</th>\n",
       "      <th>batch_no</th>\n",
       "      <th>time</th>\n",
       "      <th>skill_set</th>\n",
       "    </tr>\n",
       "  </thead>\n",
       "  <tbody>\n",
       "    <tr>\n",
       "      <th>341</th>\n",
       "      <td>3/22/2004</td>\n",
       "      <td>Student (I am currently enrolled in some Educa...</td>\n",
       "      <td>5/31/2025</td>\n",
       "      <td>I am currently enrolled in a Data Science cert...</td>\n",
       "      <td>Cisco networking academy</td>\n",
       "      <td>NaN</td>\n",
       "      <td>6:00 to 7:00 PM IST</td>\n",
       "      <td>Extracting actionable insights from the raw da...</td>\n",
       "    </tr>\n",
       "    <tr>\n",
       "      <th>384</th>\n",
       "      <td>10/30/2003</td>\n",
       "      <td>Student (I am currently enrolled in some Educa...</td>\n",
       "      <td>4/30/2025</td>\n",
       "      <td>I have never enrolled in any certification cou...</td>\n",
       "      <td>NaN</td>\n",
       "      <td>NaN</td>\n",
       "      <td>6:00 to 7:00 PM IST</td>\n",
       "      <td>Basics of backend application development usin...</td>\n",
       "    </tr>\n",
       "  </tbody>\n",
       "</table>\n",
       "</div>"
      ],
      "text/plain": [
       "    date_of_birth                                 current_profession  \\\n",
       "341     3/22/2004  Student (I am currently enrolled in some Educa...   \n",
       "384    10/30/2003  Student (I am currently enrolled in some Educa...   \n",
       "\n",
       "    education_year                                 enrollment_courses  \\\n",
       "341      5/31/2025  I am currently enrolled in a Data Science cert...   \n",
       "384      4/30/2025  I have never enrolled in any certification cou...   \n",
       "\n",
       "                institute_name batch_no                 time  \\\n",
       "341  Cisco networking academy       NaN  6:00 to 7:00 PM IST   \n",
       "384                        NaN      NaN  6:00 to 7:00 PM IST   \n",
       "\n",
       "                                             skill_set  \n",
       "341  Extracting actionable insights from the raw da...  \n",
       "384  Basics of backend application development usin...  "
      ]
     },
     "execution_count": 8,
     "metadata": {},
     "output_type": "execute_result"
    }
   ],
   "source": [
    "#knowing the duplicates\n",
    "df.loc[df.duplicated()]"
   ]
  },
  {
   "cell_type": "code",
   "execution_count": 9,
   "id": "47d2cc95",
   "metadata": {},
   "outputs": [
    {
     "data": {
      "text/html": [
       "<div>\n",
       "<style scoped>\n",
       "    .dataframe tbody tr th:only-of-type {\n",
       "        vertical-align: middle;\n",
       "    }\n",
       "\n",
       "    .dataframe tbody tr th {\n",
       "        vertical-align: top;\n",
       "    }\n",
       "\n",
       "    .dataframe thead th {\n",
       "        text-align: right;\n",
       "    }\n",
       "</style>\n",
       "<table border=\"1\" class=\"dataframe\">\n",
       "  <thead>\n",
       "    <tr style=\"text-align: right;\">\n",
       "      <th></th>\n",
       "      <th>date_of_birth</th>\n",
       "      <th>current_profession</th>\n",
       "      <th>education_year</th>\n",
       "      <th>enrollment_courses</th>\n",
       "      <th>institute_name</th>\n",
       "      <th>batch_no</th>\n",
       "      <th>time</th>\n",
       "      <th>skill_set</th>\n",
       "    </tr>\n",
       "  </thead>\n",
       "  <tbody>\n",
       "    <tr>\n",
       "      <th>221</th>\n",
       "      <td>3/22/2004</td>\n",
       "      <td>Student (I am currently enrolled in some Educa...</td>\n",
       "      <td>5/31/2025</td>\n",
       "      <td>I am currently enrolled in a Data Science cert...</td>\n",
       "      <td>Cisco networking academy</td>\n",
       "      <td>NaN</td>\n",
       "      <td>6:00 to 7:00 PM IST</td>\n",
       "      <td>Extracting actionable insights from the raw da...</td>\n",
       "    </tr>\n",
       "    <tr>\n",
       "      <th>341</th>\n",
       "      <td>3/22/2004</td>\n",
       "      <td>Student (I am currently enrolled in some Educa...</td>\n",
       "      <td>5/31/2025</td>\n",
       "      <td>I am currently enrolled in a Data Science cert...</td>\n",
       "      <td>Cisco networking academy</td>\n",
       "      <td>NaN</td>\n",
       "      <td>6:00 to 7:00 PM IST</td>\n",
       "      <td>Extracting actionable insights from the raw da...</td>\n",
       "    </tr>\n",
       "  </tbody>\n",
       "</table>\n",
       "</div>"
      ],
      "text/plain": [
       "    date_of_birth                                 current_profession  \\\n",
       "221     3/22/2004  Student (I am currently enrolled in some Educa...   \n",
       "341     3/22/2004  Student (I am currently enrolled in some Educa...   \n",
       "\n",
       "    education_year                                 enrollment_courses  \\\n",
       "221      5/31/2025  I am currently enrolled in a Data Science cert...   \n",
       "341      5/31/2025  I am currently enrolled in a Data Science cert...   \n",
       "\n",
       "                institute_name batch_no                 time  \\\n",
       "221  Cisco networking academy       NaN  6:00 to 7:00 PM IST   \n",
       "341  Cisco networking academy       NaN  6:00 to 7:00 PM IST   \n",
       "\n",
       "                                             skill_set  \n",
       "221  Extracting actionable insights from the raw da...  \n",
       "341  Extracting actionable insights from the raw da...  "
      ]
     },
     "execution_count": 9,
     "metadata": {},
     "output_type": "execute_result"
    }
   ],
   "source": [
    "df.loc[df['date_of_birth'] == '3/22/2004']"
   ]
  },
  {
   "cell_type": "code",
   "execution_count": 10,
   "id": "45a00076",
   "metadata": {},
   "outputs": [
    {
     "data": {
      "text/html": [
       "<div>\n",
       "<style scoped>\n",
       "    .dataframe tbody tr th:only-of-type {\n",
       "        vertical-align: middle;\n",
       "    }\n",
       "\n",
       "    .dataframe tbody tr th {\n",
       "        vertical-align: top;\n",
       "    }\n",
       "\n",
       "    .dataframe thead th {\n",
       "        text-align: right;\n",
       "    }\n",
       "</style>\n",
       "<table border=\"1\" class=\"dataframe\">\n",
       "  <thead>\n",
       "    <tr style=\"text-align: right;\">\n",
       "      <th></th>\n",
       "      <th>date_of_birth</th>\n",
       "      <th>current_profession</th>\n",
       "      <th>education_year</th>\n",
       "      <th>enrollment_courses</th>\n",
       "      <th>institute_name</th>\n",
       "      <th>batch_no</th>\n",
       "      <th>time</th>\n",
       "      <th>skill_set</th>\n",
       "    </tr>\n",
       "  </thead>\n",
       "  <tbody>\n",
       "    <tr>\n",
       "      <th>8</th>\n",
       "      <td>10/30/2003</td>\n",
       "      <td>Student (I am currently enrolled in some Educa...</td>\n",
       "      <td>4/30/2025</td>\n",
       "      <td>I have never enrolled in any certification cou...</td>\n",
       "      <td>NaN</td>\n",
       "      <td>NaN</td>\n",
       "      <td>6:00 to 7:00 PM IST</td>\n",
       "      <td>Basics of backend application development usin...</td>\n",
       "    </tr>\n",
       "    <tr>\n",
       "      <th>384</th>\n",
       "      <td>10/30/2003</td>\n",
       "      <td>Student (I am currently enrolled in some Educa...</td>\n",
       "      <td>4/30/2025</td>\n",
       "      <td>I have never enrolled in any certification cou...</td>\n",
       "      <td>NaN</td>\n",
       "      <td>NaN</td>\n",
       "      <td>6:00 to 7:00 PM IST</td>\n",
       "      <td>Basics of backend application development usin...</td>\n",
       "    </tr>\n",
       "  </tbody>\n",
       "</table>\n",
       "</div>"
      ],
      "text/plain": [
       "    date_of_birth                                 current_profession  \\\n",
       "8      10/30/2003  Student (I am currently enrolled in some Educa...   \n",
       "384    10/30/2003  Student (I am currently enrolled in some Educa...   \n",
       "\n",
       "    education_year                                 enrollment_courses  \\\n",
       "8        4/30/2025  I have never enrolled in any certification cou...   \n",
       "384      4/30/2025  I have never enrolled in any certification cou...   \n",
       "\n",
       "    institute_name batch_no                 time  \\\n",
       "8              NaN      NaN  6:00 to 7:00 PM IST   \n",
       "384            NaN      NaN  6:00 to 7:00 PM IST   \n",
       "\n",
       "                                             skill_set  \n",
       "8    Basics of backend application development usin...  \n",
       "384  Basics of backend application development usin...  "
      ]
     },
     "execution_count": 10,
     "metadata": {},
     "output_type": "execute_result"
    }
   ],
   "source": [
    "df.loc[df['date_of_birth'] == '10/30/2003']"
   ]
  },
  {
   "cell_type": "code",
   "execution_count": 11,
   "id": "7e1127cc",
   "metadata": {},
   "outputs": [],
   "source": [
    "#dropping the duplicates\n",
    "df.drop_duplicates(inplace = True)"
   ]
  },
  {
   "cell_type": "code",
   "execution_count": 12,
   "id": "e897a7a9",
   "metadata": {},
   "outputs": [
    {
     "data": {
      "text/plain": [
       "(998, 8)"
      ]
     },
     "execution_count": 12,
     "metadata": {},
     "output_type": "execute_result"
    }
   ],
   "source": [
    "#knowing df after dropping duplicates\n",
    "df.shape"
   ]
  },
  {
   "cell_type": "code",
   "execution_count": 13,
   "id": "1f451bd2",
   "metadata": {},
   "outputs": [
    {
     "name": "stdout",
     "output_type": "stream",
     "text": [
      "<class 'pandas.core.frame.DataFrame'>\n",
      "Int64Index: 998 entries, 0 to 999\n",
      "Data columns (total 8 columns):\n",
      " #   Column              Non-Null Count  Dtype \n",
      "---  ------              --------------  ----- \n",
      " 0   date_of_birth       998 non-null    object\n",
      " 1   current_profession  998 non-null    object\n",
      " 2   education_year      998 non-null    object\n",
      " 3   enrollment_courses  998 non-null    object\n",
      " 4   institute_name      677 non-null    object\n",
      " 5   batch_no            338 non-null    object\n",
      " 6   time                998 non-null    object\n",
      " 7   skill_set           998 non-null    object\n",
      "dtypes: object(8)\n",
      "memory usage: 70.2+ KB\n"
     ]
    }
   ],
   "source": [
    "#about data\n",
    "df.info()"
   ]
  },
  {
   "cell_type": "code",
   "execution_count": 14,
   "id": "9c0ad544",
   "metadata": {},
   "outputs": [],
   "source": [
    "#changing dtype of date_of_birth\n",
    "df['date_of_birth'] = pd.to_datetime(df['date_of_birth'])"
   ]
  },
  {
   "cell_type": "code",
   "execution_count": 15,
   "id": "a650c2c8",
   "metadata": {},
   "outputs": [
    {
     "name": "stdout",
     "output_type": "stream",
     "text": [
      "<class 'pandas.core.frame.DataFrame'>\n",
      "Int64Index: 998 entries, 0 to 999\n",
      "Data columns (total 8 columns):\n",
      " #   Column              Non-Null Count  Dtype         \n",
      "---  ------              --------------  -----         \n",
      " 0   date_of_birth       998 non-null    datetime64[ns]\n",
      " 1   current_profession  998 non-null    object        \n",
      " 2   education_year      998 non-null    object        \n",
      " 3   enrollment_courses  998 non-null    object        \n",
      " 4   institute_name      677 non-null    object        \n",
      " 5   batch_no            338 non-null    object        \n",
      " 6   time                998 non-null    object        \n",
      " 7   skill_set           998 non-null    object        \n",
      "dtypes: datetime64[ns](1), object(7)\n",
      "memory usage: 70.2+ KB\n"
     ]
    }
   ],
   "source": [
    "#checking info after changing\n",
    "df.info()"
   ]
  },
  {
   "cell_type": "markdown",
   "id": "68e00475",
   "metadata": {},
   "source": [
    "### 1. What is the current profession of most interns?"
   ]
  },
  {
   "cell_type": "code",
   "execution_count": 16,
   "id": "b5957de6",
   "metadata": {},
   "outputs": [],
   "source": [
    "#cleaning the column getting only only professsion and saving in same column name\n",
    "df['current_profession'] = df['current_profession'].apply(lambda x : x.split()[0])"
   ]
  },
  {
   "cell_type": "code",
   "execution_count": 17,
   "id": "40c62f3e",
   "metadata": {},
   "outputs": [
    {
     "data": {
      "text/plain": [
       "Student       486\n",
       "Fresher       424\n",
       "Working        62\n",
       "Freelancer     26\n",
       "Name: current_profession, dtype: int64"
      ]
     },
     "execution_count": 17,
     "metadata": {},
     "output_type": "execute_result"
    }
   ],
   "source": [
    "df['current_profession'].value_counts()"
   ]
  },
  {
   "cell_type": "markdown",
   "id": "9e99e35b",
   "metadata": {},
   "source": [
    "### 2.What are the preferred LIVE session timings?\n"
   ]
  },
  {
   "cell_type": "code",
   "execution_count": 18,
   "id": "a969f4ae",
   "metadata": {},
   "outputs": [
    {
     "data": {
      "text/plain": [
       "6:00 to 7:00 PM IST    670\n",
       "5:00 to 6:00 PM IST    328\n",
       "Name: time, dtype: int64"
      ]
     },
     "execution_count": 18,
     "metadata": {},
     "output_type": "execute_result"
    }
   ],
   "source": [
    "#applying the \"value counts\" to time column to know count of each time\n",
    "df['time'].value_counts()"
   ]
  },
  {
   "cell_type": "markdown",
   "id": "9e1edcc0",
   "metadata": {},
   "source": [
    "### 3.How many interns are enrolled or have completed their data science professional courses?"
   ]
  },
  {
   "cell_type": "code",
   "execution_count": 19,
   "id": "8f21dbd2",
   "metadata": {},
   "outputs": [
    {
     "data": {
      "text/plain": [
       "enrollment_courses    697\n",
       "dtype: int64"
      ]
     },
     "execution_count": 19,
     "metadata": {},
     "output_type": "execute_result"
    }
   ],
   "source": [
    "#filtering rows with enrolled courses or completed course interns and counting with enrollment_Courses column\n",
    "df.loc[(df['enrollment_courses'] == 'I am currently enrolled in a Data Science certification course') | (df['enrollment_courses'] == 'I have completed a Data Science certification course'), ['enrollment_courses']].count()"
   ]
  },
  {
   "cell_type": "markdown",
   "id": "76a561f9",
   "metadata": {},
   "source": [
    "### 4.For interns who never enrolled in a data science certification course, what is the current profession of the majority of them?"
   ]
  },
  {
   "cell_type": "code",
   "execution_count": 20,
   "id": "b54900b0",
   "metadata": {},
   "outputs": [
    {
     "data": {
      "text/plain": [
       "current_profession\n",
       "Student               198\n",
       "Fresher                87\n",
       "Working                13\n",
       "Freelancer              3\n",
       "dtype: int64"
      ]
     },
     "execution_count": 20,
     "metadata": {},
     "output_type": "execute_result"
    }
   ],
   "source": [
    "#filtering enrollment courses who never enrolled and apply value count on it\n",
    "df.loc[(df['enrollment_courses'] == 'I have never enrolled in any certification courses'), ['current_profession']].value_counts()"
   ]
  },
  {
   "cell_type": "markdown",
   "id": "79f22e85",
   "metadata": {},
   "source": [
    "### 5.Which skill is the third most important for a data scientist?"
   ]
  },
  {
   "cell_type": "code",
   "execution_count": 21,
   "id": "eaf6a530",
   "metadata": {},
   "outputs": [
    {
     "data": {
      "text/plain": [
       "0      [Extracting actionable insights from the raw d...\n",
       "1      [Extracting actionable insights from the raw d...\n",
       "2                                       [Data Modelling]\n",
       "3      [Extracting actionable insights from the raw d...\n",
       "4      [Extracting actionable insights from the raw d...\n",
       "                             ...                        \n",
       "995    [Extracting actionable insights from the raw d...\n",
       "996                                               [LLMs]\n",
       "997    [Extracting actionable insights from the raw d...\n",
       "998    [Extracting actionable insights from the raw d...\n",
       "999                  [LLMs,  MLOps,  Prompt Engineering]\n",
       "Name: skill_set, Length: 998, dtype: object"
      ]
     },
     "execution_count": 21,
     "metadata": {},
     "output_type": "execute_result"
    }
   ],
   "source": [
    "#splitting skill_set column with \",\" so we convert them into list\n",
    "skills = df['skill_set'].str.split(',')\n",
    "skills"
   ]
  },
  {
   "cell_type": "code",
   "execution_count": 22,
   "id": "b7bd2e88",
   "metadata": {},
   "outputs": [
    {
     "data": {
      "text/plain": [
       "0       Extracting actionable insights from the raw data\n",
       "0                                         Data Modelling\n",
       "0                                                   LLMs\n",
       "0                                                  MLOps\n",
       "0       Basics of backend application development usi...\n",
       "                             ...                        \n",
       "998                                                 LLMs\n",
       "998     Basics of backend application development usi...\n",
       "999                                                 LLMs\n",
       "999                                                MLOps\n",
       "999                                   Prompt Engineering\n",
       "Name: skill_set, Length: 3766, dtype: object"
      ]
     },
     "execution_count": 22,
     "metadata": {},
     "output_type": "execute_result"
    }
   ],
   "source": [
    "# we can apply explode function on the above converted list so we can get all the elements in list spearately  \n",
    "explode = skills.explode()\n",
    "explode"
   ]
  },
  {
   "cell_type": "code",
   "execution_count": 23,
   "id": "cd6fc732",
   "metadata": {},
   "outputs": [
    {
     "data": {
      "text/plain": [
       "Extracting actionable insights from the raw data           868\n",
       " Data Modelling                                            765\n",
       " MLOps                                                     585\n",
       " LLMs                                                      505\n",
       " Basics of backend application development using python    496\n",
       " Prompt Engineering                                        417\n",
       "Data Modelling                                              60\n",
       "LLMs                                                        28\n",
       "Basics of backend application development using python      24\n",
       "MLOps                                                       11\n",
       "Prompt Engineering                                           7\n",
       "Name: skill_set, dtype: int64"
      ]
     },
     "execution_count": 23,
     "metadata": {},
     "output_type": "execute_result"
    }
   ],
   "source": [
    "#as we apply value_counts on explode then we get all count of unique values but we are getting same names not cleaned\n",
    "explode.value_counts()"
   ]
  },
  {
   "cell_type": "code",
   "execution_count": 24,
   "id": "0aaca350",
   "metadata": {},
   "outputs": [],
   "source": [
    "#to clean above names we need to strip \n",
    "cleaned_explode = explode.str.strip()"
   ]
  },
  {
   "cell_type": "code",
   "execution_count": 25,
   "id": "0afac03a",
   "metadata": {},
   "outputs": [
    {
     "data": {
      "text/plain": [
       "Extracting actionable insights from the raw data          868\n",
       "Data Modelling                                            825\n",
       "MLOps                                                     596\n",
       "LLMs                                                      533\n",
       "Basics of backend application development using python    520\n",
       "Prompt Engineering                                        424\n",
       "Name: skill_set, dtype: int64"
      ]
     },
     "execution_count": 25,
     "metadata": {},
     "output_type": "execute_result"
    }
   ],
   "source": [
    "# applyin value_counts on the above cleaned_explode\n",
    "cleaned_explode.value_counts()"
   ]
  },
  {
   "cell_type": "markdown",
   "id": "6ddd3a70",
   "metadata": {},
   "source": [
    "### 6.How many interns selected “Prompt Engineering” as the most important skill?"
   ]
  },
  {
   "cell_type": "code",
   "execution_count": 43,
   "id": "cdcacccd",
   "metadata": {},
   "outputs": [
    {
     "data": {
      "text/plain": [
       "Extracting actionable insights from the raw data          868\n",
       "Data Modelling                                            825\n",
       "MLOps                                                     596\n",
       "LLMs                                                      533\n",
       "Basics of backend application development using python    520\n",
       "Prompt Engineering                                        424\n",
       "Name: skill_set, dtype: int64"
      ]
     },
     "execution_count": 43,
     "metadata": {},
     "output_type": "execute_result"
    }
   ],
   "source": [
    "cleaned_explode.value_counts()"
   ]
  },
  {
   "cell_type": "markdown",
   "id": "52139479",
   "metadata": {},
   "source": [
    "### 7.Let’s now analyze the age groups of fellow interns."
   ]
  },
  {
   "cell_type": "markdown",
   "id": "6209b4d2",
   "metadata": {},
   "source": [
    "### a.What is the minimum age of an intern at Innomatics Research Labs?\n"
   ]
  },
  {
   "cell_type": "code",
   "execution_count": 27,
   "id": "72e6401e",
   "metadata": {},
   "outputs": [
    {
     "data": {
      "text/plain": [
       "0"
      ]
     },
     "execution_count": 27,
     "metadata": {},
     "output_type": "execute_result"
    }
   ],
   "source": [
    "#importing datetime\n",
    "from datetime import datetime\n",
    "\n",
    "#here we are assgning current year as current year\n",
    "current_year = datetime.now().year\n",
    "\n",
    "#crearting new column with current_year - intern birth date year\n",
    "df['age'] = (current_year - df['date_of_birth'].dt.year)\n",
    "\n",
    "#checking minimum age\n",
    "df['age'].min()"
   ]
  },
  {
   "cell_type": "markdown",
   "id": "52ae6542",
   "metadata": {},
   "source": [
    "### b.How many interns were born on a Sunday?\n"
   ]
  },
  {
   "cell_type": "code",
   "execution_count": 28,
   "id": "e91143ba",
   "metadata": {},
   "outputs": [],
   "source": [
    "#extracting weekday\n",
    "week_day = df['date_of_birth'].dt.dayofweek"
   ]
  },
  {
   "cell_type": "code",
   "execution_count": 29,
   "id": "e170bd73",
   "metadata": {},
   "outputs": [
    {
     "data": {
      "text/plain": [
       "0    162\n",
       "4    146\n",
       "3    146\n",
       "5    145\n",
       "1    140\n",
       "2    134\n",
       "6    125\n",
       "Name: date_of_birth, dtype: int64"
      ]
     },
     "execution_count": 29,
     "metadata": {},
     "output_type": "execute_result"
    }
   ],
   "source": [
    "#applying value_counts on it\n",
    "week_day.value_counts()"
   ]
  },
  {
   "cell_type": "markdown",
   "id": "b72f4729",
   "metadata": {},
   "source": [
    "###  c.In which month do the majority of interns are born?"
   ]
  },
  {
   "cell_type": "code",
   "execution_count": 30,
   "id": "3fb0f490",
   "metadata": {},
   "outputs": [],
   "source": [
    "#extracting month from date of birth column\n",
    "month = df['date_of_birth'].dt.month"
   ]
  },
  {
   "cell_type": "code",
   "execution_count": 31,
   "id": "c78fa6e6",
   "metadata": {},
   "outputs": [
    {
     "data": {
      "text/plain": [
       "7     103\n",
       "5     102\n",
       "6      97\n",
       "8      93\n",
       "10     91\n",
       "4      87\n",
       "9      81\n",
       "11     78\n",
       "12     76\n",
       "1      66\n",
       "2      64\n",
       "3      60\n",
       "Name: date_of_birth, dtype: int64"
      ]
     },
     "execution_count": 31,
     "metadata": {},
     "output_type": "execute_result"
    }
   ],
   "source": [
    "#value counts on month\n",
    "month.value_counts()"
   ]
  },
  {
   "cell_type": "markdown",
   "id": "764e79df",
   "metadata": {},
   "source": [
    "### d.What is the median age of a working professional?"
   ]
  },
  {
   "cell_type": "code",
   "execution_count": 32,
   "id": "5e65c3e0",
   "metadata": {},
   "outputs": [
    {
     "data": {
      "text/plain": [
       "27.0"
      ]
     },
     "execution_count": 32,
     "metadata": {},
     "output_type": "execute_result"
    }
   ],
   "source": [
    "#filtering rows of current_profession who are working and getting age column median\n",
    "df.loc[df['current_profession'] == 'Working', 'age'].median()"
   ]
  },
  {
   "cell_type": "markdown",
   "id": "361f7e82",
   "metadata": {},
   "source": [
    "### e.What is the maximum age of a freelancer?"
   ]
  },
  {
   "cell_type": "code",
   "execution_count": 33,
   "id": "5df50df6",
   "metadata": {},
   "outputs": [
    {
     "data": {
      "text/plain": [
       "44"
      ]
     },
     "execution_count": 33,
     "metadata": {},
     "output_type": "execute_result"
    }
   ],
   "source": [
    "#filtering rows of current_profession who are Freelancer and getting age column max\n",
    "df.loc[df['current_profession'] == 'Freelancer', 'age'].max()"
   ]
  },
  {
   "cell_type": "markdown",
   "id": "e371d400",
   "metadata": {},
   "source": [
    "### 8.Let’s do our final analysis now. Let’s try to learn about the institute from where interns have completed or are pursuing their data science courses."
   ]
  },
  {
   "cell_type": "markdown",
   "id": "309a6714",
   "metadata": {},
   "source": [
    "### a.How many interns didn’t mention the name of the data science institute from where they completed or are currently pursuing the courses?"
   ]
  },
  {
   "cell_type": "code",
   "execution_count": null,
   "id": "ad015a74",
   "metadata": {},
   "outputs": [],
   "source": [
    "#replace all the  \"na\" values with null values"
   ]
  },
  {
   "cell_type": "code",
   "execution_count": 35,
   "id": "d4c2a0b0",
   "metadata": {},
   "outputs": [],
   "source": [
    "df['institute_name'] = df['institute_name'].replace('Na',np.nan)"
   ]
  },
  {
   "cell_type": "code",
   "execution_count": 36,
   "id": "3df88cbf",
   "metadata": {},
   "outputs": [],
   "source": [
    "df['institute_name'] = df['institute_name'].replace('No',np.nan)"
   ]
  },
  {
   "cell_type": "code",
   "execution_count": 37,
   "id": "f313f408",
   "metadata": {},
   "outputs": [],
   "source": [
    "df['institute_name'] = df['institute_name'].replace('NA ',np.nan)"
   ]
  },
  {
   "cell_type": "code",
   "execution_count": 38,
   "id": "c7150a11",
   "metadata": {},
   "outputs": [],
   "source": [
    "df['institute_name'] = df['institute_name'].replace('na',np.nan)"
   ]
  },
  {
   "cell_type": "code",
   "execution_count": 39,
   "id": "d2ca08ae",
   "metadata": {},
   "outputs": [],
   "source": [
    "df['institute_name'] = df['institute_name'].replace('NA(self learning) ',np.nan)"
   ]
  },
  {
   "cell_type": "code",
   "execution_count": 40,
   "id": "17a06bbe",
   "metadata": {},
   "outputs": [],
   "source": [
    "df['institute_name'] = df['institute_name'].replace('N',np.nan)"
   ]
  },
  {
   "cell_type": "code",
   "execution_count": 55,
   "id": "940e7a80",
   "metadata": {},
   "outputs": [],
   "source": [
    "df['institute_name'] = df['institute_name'].replace('N/a',np.nan)"
   ]
  },
  {
   "cell_type": "code",
   "execution_count": 56,
   "id": "30d4ccf0",
   "metadata": {},
   "outputs": [
    {
     "data": {
      "text/plain": [
       "339"
      ]
     },
     "execution_count": 56,
     "metadata": {},
     "output_type": "execute_result"
    }
   ],
   "source": [
    "#knowing the sum of null values mean didn't mention the institute name\n",
    "df['institute_name'].isnull().sum()"
   ]
  },
  {
   "cell_type": "markdown",
   "id": "aa54ff4a",
   "metadata": {},
   "source": [
    "### b.How many interns mentioned Innomatics as their data science institute?"
   ]
  },
  {
   "cell_type": "code",
   "execution_count": null,
   "id": "6f1c716d",
   "metadata": {},
   "outputs": [],
   "source": []
  }
 ],
 "metadata": {
  "kernelspec": {
   "display_name": "Python 3 (ipykernel)",
   "language": "python",
   "name": "python3"
  },
  "language_info": {
   "codemirror_mode": {
    "name": "ipython",
    "version": 3
   },
   "file_extension": ".py",
   "mimetype": "text/x-python",
   "name": "python",
   "nbconvert_exporter": "python",
   "pygments_lexer": "ipython3",
   "version": "3.11.4"
  }
 },
 "nbformat": 4,
 "nbformat_minor": 5
}
